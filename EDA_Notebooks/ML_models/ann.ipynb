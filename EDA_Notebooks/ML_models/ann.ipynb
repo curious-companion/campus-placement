{
 "cells": [
  {
   "cell_type": "code",
   "execution_count": 9,
   "metadata": {},
   "outputs": [
    {
     "name": "stdout",
     "output_type": "stream",
     "text": [
      "Original columns: ['s_id', 'name', 'profile_link', 'tier', 'gender', 'branch', 'cgpa', 'inter_gpa', 'ssc_gpa', 'internships', 'no_of_projects', 'is_participate_hackathon', 'is_participated_extracurricular', 'no_of_programming_languages', 'dsa', 'mobile_dev', 'web_dev', 'Machine Learning', 'cloud', 'other_skills', 'is_placed', 'salary_as_fresher']\n",
      "\n",
      "Missing values before processing:\n",
      "s_id                                10\n",
      "name                               145\n",
      "profile_link                        11\n",
      "tier                                 0\n",
      "gender                               8\n",
      "branch                               2\n",
      "cgpa                                13\n",
      "inter_gpa                           61\n",
      "ssc_gpa                             60\n",
      "internships                          5\n",
      "no_of_projects                       5\n",
      "is_participate_hackathon             5\n",
      "is_participated_extracurricular      5\n",
      "no_of_programming_languages          5\n",
      "dsa                                  5\n",
      "mobile_dev                           5\n",
      "web_dev                              5\n",
      "Machine Learning                     5\n",
      "cloud                                5\n",
      "other_skills                       123\n",
      "is_placed                            5\n",
      "salary_as_fresher                    5\n",
      "dtype: int64\n"
     ]
    }
   ],
   "source": [
    "import pandas as pd\n",
    "import numpy as np\n",
    "\n",
    "# Load data\n",
    "file_path = r'C:\\Users\\VIBHANSHU JAIN\\Desktop\\Client Project\\campus-placement-analysis\\EDA_Notebooks\\datasets\\Predicted_data.xlsx'\n",
    "df = pd.read_excel(file_path)\n",
    "\n",
    "# Verify data\n",
    "print(\"Original columns:\", df.columns.tolist())\n",
    "print(\"\\nMissing values before processing:\")\n",
    "print(df.isnull().sum())"
   ]
  },
  {
   "cell_type": "code",
   "execution_count": 11,
   "metadata": {},
   "outputs": [
    {
     "name": "stdout",
     "output_type": "stream",
     "text": [
      "\n",
      "After one-hot encoding:\n",
      "   s_id  name                                       profile_link  cgpa  \\\n",
      "0   1.0   NaN  https://www.linkedin.com/in/shubham-yadav-b862...   NaN   \n",
      "1   2.0   NaN  https://www.linkedin.com/in/pranav-patel-97780...   NaN   \n",
      "2   3.0   NaN          https://www.linkedin.com/in/kshitij-garg/   NaN   \n",
      "3   4.0   NaN   https://www.linkedin.com/in/akash-garg-5757a290/  9.59   \n",
      "4   5.0   NaN  https://www.linkedin.com/in/shubham-jadhav-493...   NaN   \n",
      "\n",
      "   inter_gpa  ssc_gpa  internships  no_of_projects  is_participate_hackathon  \\\n",
      "0        NaN     10.0          2.0             5.0                       1.0   \n",
      "1        NaN     10.0          1.0             4.0                       1.0   \n",
      "2        NaN      NaN          1.0             5.0                       1.0   \n",
      "3        NaN     10.0          3.0             8.0                       1.0   \n",
      "4        NaN      9.8          3.0             4.0                       1.0   \n",
      "\n",
      "   is_participated_extracurricular  ...  tier_2  tier_3  gender_F  gender_M  \\\n",
      "0                              1.0  ...     0.0     0.0       0.0       1.0   \n",
      "1                              1.0  ...     0.0     0.0       0.0       1.0   \n",
      "2                              1.0  ...     0.0     0.0       0.0       1.0   \n",
      "3                              1.0  ...     0.0     0.0       0.0       1.0   \n",
      "4                              1.0  ...     0.0     0.0       0.0       1.0   \n",
      "\n",
      "   gender_nan  branch_CSE branch_ECE  branch_EEE  branch_MECH  branch_nan  \n",
      "0         0.0         1.0        0.0         0.0          0.0         0.0  \n",
      "1         0.0         1.0        0.0         0.0          0.0         0.0  \n",
      "2         0.0         1.0        0.0         0.0          0.0         0.0  \n",
      "3         0.0         1.0        0.0         0.0          0.0         0.0  \n",
      "4         0.0         1.0        0.0         0.0          0.0         0.0  \n",
      "\n",
      "[5 rows x 30 columns]\n"
     ]
    }
   ],
   "source": [
    "from sklearn.preprocessing import OneHotEncoder\n",
    "\n",
    "# Define categorical columns to encode\n",
    "categorical_cols = ['tier', 'gender', 'branch']\n",
    "\n",
    "# Initialize OneHotEncoder\n",
    "encoder = OneHotEncoder(sparse_output=False, handle_unknown='ignore')\n",
    "\n",
    "# Apply one-hot encoding\n",
    "encoded_data = encoder.fit_transform(df[categorical_cols])\n",
    "\n",
    "# Get new column names\n",
    "encoded_cols = encoder.get_feature_names_out(categorical_cols)\n",
    "\n",
    "# Create DataFrame with encoded columns\n",
    "encoded_df = pd.DataFrame(encoded_data, columns=encoded_cols)\n",
    "\n",
    "# Drop original categorical columns and add encoded ones\n",
    "df = df.drop(categorical_cols, axis=1)\n",
    "df = pd.concat([df, encoded_df], axis=1)\n",
    "\n",
    "print(\"\\nAfter one-hot encoding:\")\n",
    "print(df.head())"
   ]
  },
  {
   "cell_type": "code",
   "execution_count": 12,
   "metadata": {},
   "outputs": [
    {
     "name": "stdout",
     "output_type": "stream",
     "text": [
      "\n",
      "Missing values after imputation:\n",
      "s_id                                10\n",
      "name                               145\n",
      "profile_link                        11\n",
      "cgpa                                 0\n",
      "inter_gpa                            0\n",
      "ssc_gpa                              0\n",
      "internships                          0\n",
      "no_of_projects                       0\n",
      "is_participate_hackathon             5\n",
      "is_participated_extracurricular      5\n",
      "no_of_programming_languages          0\n",
      "dsa                                  5\n",
      "mobile_dev                           5\n",
      "web_dev                              5\n",
      "Machine Learning                     5\n",
      "cloud                                5\n",
      "other_skills                       123\n",
      "is_placed                            5\n",
      "salary_as_fresher                    5\n",
      "tier_1                               0\n",
      "tier_2                               0\n",
      "tier_3                               0\n",
      "gender_F                             0\n",
      "gender_M                             0\n",
      "gender_nan                           0\n",
      "branch_CSE                           0\n",
      "branch_ECE                           0\n",
      "branch_EEE                           0\n",
      "branch_MECH                          0\n",
      "branch_nan                           0\n",
      "dtype: int64\n"
     ]
    }
   ],
   "source": [
    "from sklearn.impute import SimpleImputer\n",
    "\n",
    "# Define numeric columns for mean imputation\n",
    "numeric_cols = ['cgpa', 'inter_gpa', 'ssc_gpa', 'internships', \n",
    "                'no_of_projects', 'no_of_programming_languages']\n",
    "\n",
    "# Initialize imputer with mean strategy\n",
    "imputer = SimpleImputer(strategy='mean')\n",
    "\n",
    "# Apply mean imputation\n",
    "df[numeric_cols] = imputer.fit_transform(df[numeric_cols])\n",
    "\n",
    "# Verify no missing values remain\n",
    "print(\"\\nMissing values after imputation:\")\n",
    "print(df.isnull().sum())"
   ]
  },
  {
   "cell_type": "code",
   "execution_count": 13,
   "metadata": {},
   "outputs": [],
   "source": [
    "df = df.drop(columns=['s_id', 'name', 'profile_link', 'other_skills', 'branch_nan'])\n",
    "df = df.fillna(0)"
   ]
  },
  {
   "cell_type": "code",
   "execution_count": 14,
   "metadata": {},
   "outputs": [
    {
     "name": "stdout",
     "output_type": "stream",
     "text": [
      "cgpa                               0\n",
      "inter_gpa                          0\n",
      "ssc_gpa                            0\n",
      "internships                        0\n",
      "no_of_projects                     0\n",
      "is_participate_hackathon           0\n",
      "is_participated_extracurricular    0\n",
      "no_of_programming_languages        0\n",
      "dsa                                0\n",
      "mobile_dev                         0\n",
      "web_dev                            0\n",
      "Machine Learning                   0\n",
      "cloud                              0\n",
      "is_placed                          0\n",
      "salary_as_fresher                  0\n",
      "tier_1                             0\n",
      "tier_2                             0\n",
      "tier_3                             0\n",
      "gender_F                           0\n",
      "gender_M                           0\n",
      "gender_nan                         0\n",
      "branch_CSE                         0\n",
      "branch_ECE                         0\n",
      "branch_EEE                         0\n",
      "branch_MECH                        0\n",
      "dtype: int64\n"
     ]
    }
   ],
   "source": [
    "print(df.isnull().sum())"
   ]
  },
  {
   "cell_type": "code",
   "execution_count": 15,
   "metadata": {},
   "outputs": [
    {
     "name": "stdout",
     "output_type": "stream",
     "text": [
      "Dataset successfully saved to: C:\\Users\\VIBHANSHU JAIN\\Desktop\\Client Project\\campus-placement-analysis\\EDA_Notebooks\\datasets\\cleaned_placement_dataset.csv\n",
      "Total records saved: 145\n"
     ]
    }
   ],
   "source": [
    "# Save the cleaned DataFrame to CSV\n",
    "output_path = r'C:\\Users\\VIBHANSHU JAIN\\Desktop\\Client Project\\campus-placement-analysis\\EDA_Notebooks\\datasets\\cleaned_placement_dataset.csv'\n",
    "df.to_csv(output_path, index=False)  # index=False prevents saving row numbers\n",
    "\n",
    "print(f\"Dataset successfully saved to: {output_path}\")\n",
    "print(f\"Total records saved: {len(df)}\")"
   ]
  },
  {
   "cell_type": "code",
   "execution_count": 16,
   "metadata": {},
   "outputs": [],
   "source": [
    "import pandas as pd\n",
    "import numpy as np\n",
    "from sklearn.model_selection import train_test_split\n",
    "from sklearn.preprocessing import StandardScaler\n",
    "\n",
    "# Load cleaned data\n",
    "df = pd.read_csv(r'C:\\Users\\VIBHANSHU JAIN\\Desktop\\Client Project\\campus-placement-analysis\\EDA_Notebooks\\datasets\\cleaned_placement_dataset.csv')\n",
    "\n",
    "# Separate features and targets\n",
    "X = df.drop([ 'is_placed', 'salary_as_fresher'], axis=1)\n",
    "y_placement = df['is_placed']\n",
    "y_salary = df['salary_as_fresher']\n",
    "\n",
    "# Scale features\n",
    "scaler = StandardScaler()\n",
    "X_scaled = scaler.fit_transform(X)\n",
    "\n",
    "# Split data\n",
    "X_train, X_test, y_place_train, y_place_test, y_salary_train, y_salary_test = train_test_split(\n",
    "    X_scaled, y_placement, y_salary, test_size=0.2, random_state=42\n",
    ")"
   ]
  },
  {
   "cell_type": "code",
   "execution_count": 48,
   "metadata": {},
   "outputs": [
    {
     "data": {
      "text/plain": [
       "['input_scaler.pkl']"
      ]
     },
     "execution_count": 48,
     "metadata": {},
     "output_type": "execute_result"
    }
   ],
   "source": [
    "from sklearn.preprocessing import StandardScaler\n",
    "import joblib\n",
    "import numpy as np\n",
    "\n",
    "# Assuming X_train is your input feature matrix\n",
    "scaler = StandardScaler()  # or MinMaxScaler() if you used that\n",
    "X_scaled = scaler.fit_transform(X_train)\n",
    "\n",
    "# Save the input scaler\n",
    "joblib.dump(scaler, 'input_scaler.pkl')\n"
   ]
  },
  {
   "cell_type": "code",
   "execution_count": 39,
   "metadata": {},
   "outputs": [
    {
     "data": {
      "text/html": [
       "<pre style=\"white-space:pre;overflow-x:auto;line-height:normal;font-family:Menlo,'DejaVu Sans Mono',consolas,'Courier New',monospace\"><span style=\"font-weight: bold\">Model: \"functional_3\"</span>\n",
       "</pre>\n"
      ],
      "text/plain": [
       "\u001b[1mModel: \"functional_3\"\u001b[0m\n"
      ]
     },
     "metadata": {},
     "output_type": "display_data"
    },
    {
     "data": {
      "text/html": [
       "<pre style=\"white-space:pre;overflow-x:auto;line-height:normal;font-family:Menlo,'DejaVu Sans Mono',consolas,'Courier New',monospace\">┏━━━━━━━━━━━━━━━━━━━━━┳━━━━━━━━━━━━━━━━━━━┳━━━━━━━━━━━━┳━━━━━━━━━━━━━━━━━━━┓\n",
       "┃<span style=\"font-weight: bold\"> Layer (type)        </span>┃<span style=\"font-weight: bold\"> Output Shape      </span>┃<span style=\"font-weight: bold\">    Param # </span>┃<span style=\"font-weight: bold\"> Connected to      </span>┃\n",
       "┡━━━━━━━━━━━━━━━━━━━━━╇━━━━━━━━━━━━━━━━━━━╇━━━━━━━━━━━━╇━━━━━━━━━━━━━━━━━━━┩\n",
       "│ input_layer_3       │ (<span style=\"color: #00d7ff; text-decoration-color: #00d7ff\">None</span>, <span style=\"color: #00af00; text-decoration-color: #00af00\">23</span>)        │          <span style=\"color: #00af00; text-decoration-color: #00af00\">0</span> │ -                 │\n",
       "│ (<span style=\"color: #0087ff; text-decoration-color: #0087ff\">InputLayer</span>)        │                   │            │                   │\n",
       "├─────────────────────┼───────────────────┼────────────┼───────────────────┤\n",
       "│ dense_10 (<span style=\"color: #0087ff; text-decoration-color: #0087ff\">Dense</span>)    │ (<span style=\"color: #00d7ff; text-decoration-color: #00d7ff\">None</span>, <span style=\"color: #00af00; text-decoration-color: #00af00\">256</span>)       │      <span style=\"color: #00af00; text-decoration-color: #00af00\">6,144</span> │ input_layer_3[<span style=\"color: #00af00; text-decoration-color: #00af00\">0</span>]… │\n",
       "├─────────────────────┼───────────────────┼────────────┼───────────────────┤\n",
       "│ batch_normalizatio… │ (<span style=\"color: #00d7ff; text-decoration-color: #00d7ff\">None</span>, <span style=\"color: #00af00; text-decoration-color: #00af00\">256</span>)       │      <span style=\"color: #00af00; text-decoration-color: #00af00\">1,024</span> │ dense_10[<span style=\"color: #00af00; text-decoration-color: #00af00\">0</span>][<span style=\"color: #00af00; text-decoration-color: #00af00\">0</span>]    │\n",
       "│ (<span style=\"color: #0087ff; text-decoration-color: #0087ff\">BatchNormalizatio…</span> │                   │            │                   │\n",
       "├─────────────────────┼───────────────────┼────────────┼───────────────────┤\n",
       "│ dropout_7 (<span style=\"color: #0087ff; text-decoration-color: #0087ff\">Dropout</span>) │ (<span style=\"color: #00d7ff; text-decoration-color: #00d7ff\">None</span>, <span style=\"color: #00af00; text-decoration-color: #00af00\">256</span>)       │          <span style=\"color: #00af00; text-decoration-color: #00af00\">0</span> │ batch_normalizat… │\n",
       "├─────────────────────┼───────────────────┼────────────┼───────────────────┤\n",
       "│ dense_11 (<span style=\"color: #0087ff; text-decoration-color: #0087ff\">Dense</span>)    │ (<span style=\"color: #00d7ff; text-decoration-color: #00d7ff\">None</span>, <span style=\"color: #00af00; text-decoration-color: #00af00\">128</span>)       │     <span style=\"color: #00af00; text-decoration-color: #00af00\">32,896</span> │ dropout_7[<span style=\"color: #00af00; text-decoration-color: #00af00\">0</span>][<span style=\"color: #00af00; text-decoration-color: #00af00\">0</span>]   │\n",
       "├─────────────────────┼───────────────────┼────────────┼───────────────────┤\n",
       "│ batch_normalizatio… │ (<span style=\"color: #00d7ff; text-decoration-color: #00d7ff\">None</span>, <span style=\"color: #00af00; text-decoration-color: #00af00\">128</span>)       │        <span style=\"color: #00af00; text-decoration-color: #00af00\">512</span> │ dense_11[<span style=\"color: #00af00; text-decoration-color: #00af00\">0</span>][<span style=\"color: #00af00; text-decoration-color: #00af00\">0</span>]    │\n",
       "│ (<span style=\"color: #0087ff; text-decoration-color: #0087ff\">BatchNormalizatio…</span> │                   │            │                   │\n",
       "├─────────────────────┼───────────────────┼────────────┼───────────────────┤\n",
       "│ dropout_8 (<span style=\"color: #0087ff; text-decoration-color: #0087ff\">Dropout</span>) │ (<span style=\"color: #00d7ff; text-decoration-color: #00d7ff\">None</span>, <span style=\"color: #00af00; text-decoration-color: #00af00\">128</span>)       │          <span style=\"color: #00af00; text-decoration-color: #00af00\">0</span> │ batch_normalizat… │\n",
       "├─────────────────────┼───────────────────┼────────────┼───────────────────┤\n",
       "│ dense_12 (<span style=\"color: #0087ff; text-decoration-color: #0087ff\">Dense</span>)    │ (<span style=\"color: #00d7ff; text-decoration-color: #00d7ff\">None</span>, <span style=\"color: #00af00; text-decoration-color: #00af00\">64</span>)        │      <span style=\"color: #00af00; text-decoration-color: #00af00\">8,256</span> │ dropout_8[<span style=\"color: #00af00; text-decoration-color: #00af00\">0</span>][<span style=\"color: #00af00; text-decoration-color: #00af00\">0</span>]   │\n",
       "├─────────────────────┼───────────────────┼────────────┼───────────────────┤\n",
       "│ placement (<span style=\"color: #0087ff; text-decoration-color: #0087ff\">Dense</span>)   │ (<span style=\"color: #00d7ff; text-decoration-color: #00d7ff\">None</span>, <span style=\"color: #00af00; text-decoration-color: #00af00\">1</span>)         │         <span style=\"color: #00af00; text-decoration-color: #00af00\">65</span> │ dense_12[<span style=\"color: #00af00; text-decoration-color: #00af00\">0</span>][<span style=\"color: #00af00; text-decoration-color: #00af00\">0</span>]    │\n",
       "├─────────────────────┼───────────────────┼────────────┼───────────────────┤\n",
       "│ salary (<span style=\"color: #0087ff; text-decoration-color: #0087ff\">Dense</span>)      │ (<span style=\"color: #00d7ff; text-decoration-color: #00d7ff\">None</span>, <span style=\"color: #00af00; text-decoration-color: #00af00\">1</span>)         │         <span style=\"color: #00af00; text-decoration-color: #00af00\">65</span> │ dense_12[<span style=\"color: #00af00; text-decoration-color: #00af00\">0</span>][<span style=\"color: #00af00; text-decoration-color: #00af00\">0</span>]    │\n",
       "└─────────────────────┴───────────────────┴────────────┴───────────────────┘\n",
       "</pre>\n"
      ],
      "text/plain": [
       "┏━━━━━━━━━━━━━━━━━━━━━┳━━━━━━━━━━━━━━━━━━━┳━━━━━━━━━━━━┳━━━━━━━━━━━━━━━━━━━┓\n",
       "┃\u001b[1m \u001b[0m\u001b[1mLayer (type)       \u001b[0m\u001b[1m \u001b[0m┃\u001b[1m \u001b[0m\u001b[1mOutput Shape     \u001b[0m\u001b[1m \u001b[0m┃\u001b[1m \u001b[0m\u001b[1m   Param #\u001b[0m\u001b[1m \u001b[0m┃\u001b[1m \u001b[0m\u001b[1mConnected to     \u001b[0m\u001b[1m \u001b[0m┃\n",
       "┡━━━━━━━━━━━━━━━━━━━━━╇━━━━━━━━━━━━━━━━━━━╇━━━━━━━━━━━━╇━━━━━━━━━━━━━━━━━━━┩\n",
       "│ input_layer_3       │ (\u001b[38;5;45mNone\u001b[0m, \u001b[38;5;34m23\u001b[0m)        │          \u001b[38;5;34m0\u001b[0m │ -                 │\n",
       "│ (\u001b[38;5;33mInputLayer\u001b[0m)        │                   │            │                   │\n",
       "├─────────────────────┼───────────────────┼────────────┼───────────────────┤\n",
       "│ dense_10 (\u001b[38;5;33mDense\u001b[0m)    │ (\u001b[38;5;45mNone\u001b[0m, \u001b[38;5;34m256\u001b[0m)       │      \u001b[38;5;34m6,144\u001b[0m │ input_layer_3[\u001b[38;5;34m0\u001b[0m]… │\n",
       "├─────────────────────┼───────────────────┼────────────┼───────────────────┤\n",
       "│ batch_normalizatio… │ (\u001b[38;5;45mNone\u001b[0m, \u001b[38;5;34m256\u001b[0m)       │      \u001b[38;5;34m1,024\u001b[0m │ dense_10[\u001b[38;5;34m0\u001b[0m][\u001b[38;5;34m0\u001b[0m]    │\n",
       "│ (\u001b[38;5;33mBatchNormalizatio…\u001b[0m │                   │            │                   │\n",
       "├─────────────────────┼───────────────────┼────────────┼───────────────────┤\n",
       "│ dropout_7 (\u001b[38;5;33mDropout\u001b[0m) │ (\u001b[38;5;45mNone\u001b[0m, \u001b[38;5;34m256\u001b[0m)       │          \u001b[38;5;34m0\u001b[0m │ batch_normalizat… │\n",
       "├─────────────────────┼───────────────────┼────────────┼───────────────────┤\n",
       "│ dense_11 (\u001b[38;5;33mDense\u001b[0m)    │ (\u001b[38;5;45mNone\u001b[0m, \u001b[38;5;34m128\u001b[0m)       │     \u001b[38;5;34m32,896\u001b[0m │ dropout_7[\u001b[38;5;34m0\u001b[0m][\u001b[38;5;34m0\u001b[0m]   │\n",
       "├─────────────────────┼───────────────────┼────────────┼───────────────────┤\n",
       "│ batch_normalizatio… │ (\u001b[38;5;45mNone\u001b[0m, \u001b[38;5;34m128\u001b[0m)       │        \u001b[38;5;34m512\u001b[0m │ dense_11[\u001b[38;5;34m0\u001b[0m][\u001b[38;5;34m0\u001b[0m]    │\n",
       "│ (\u001b[38;5;33mBatchNormalizatio…\u001b[0m │                   │            │                   │\n",
       "├─────────────────────┼───────────────────┼────────────┼───────────────────┤\n",
       "│ dropout_8 (\u001b[38;5;33mDropout\u001b[0m) │ (\u001b[38;5;45mNone\u001b[0m, \u001b[38;5;34m128\u001b[0m)       │          \u001b[38;5;34m0\u001b[0m │ batch_normalizat… │\n",
       "├─────────────────────┼───────────────────┼────────────┼───────────────────┤\n",
       "│ dense_12 (\u001b[38;5;33mDense\u001b[0m)    │ (\u001b[38;5;45mNone\u001b[0m, \u001b[38;5;34m64\u001b[0m)        │      \u001b[38;5;34m8,256\u001b[0m │ dropout_8[\u001b[38;5;34m0\u001b[0m][\u001b[38;5;34m0\u001b[0m]   │\n",
       "├─────────────────────┼───────────────────┼────────────┼───────────────────┤\n",
       "│ placement (\u001b[38;5;33mDense\u001b[0m)   │ (\u001b[38;5;45mNone\u001b[0m, \u001b[38;5;34m1\u001b[0m)         │         \u001b[38;5;34m65\u001b[0m │ dense_12[\u001b[38;5;34m0\u001b[0m][\u001b[38;5;34m0\u001b[0m]    │\n",
       "├─────────────────────┼───────────────────┼────────────┼───────────────────┤\n",
       "│ salary (\u001b[38;5;33mDense\u001b[0m)      │ (\u001b[38;5;45mNone\u001b[0m, \u001b[38;5;34m1\u001b[0m)         │         \u001b[38;5;34m65\u001b[0m │ dense_12[\u001b[38;5;34m0\u001b[0m][\u001b[38;5;34m0\u001b[0m]    │\n",
       "└─────────────────────┴───────────────────┴────────────┴───────────────────┘\n"
      ]
     },
     "metadata": {},
     "output_type": "display_data"
    },
    {
     "data": {
      "text/html": [
       "<pre style=\"white-space:pre;overflow-x:auto;line-height:normal;font-family:Menlo,'DejaVu Sans Mono',consolas,'Courier New',monospace\"><span style=\"font-weight: bold\"> Total params: </span><span style=\"color: #00af00; text-decoration-color: #00af00\">48,962</span> (191.26 KB)\n",
       "</pre>\n"
      ],
      "text/plain": [
       "\u001b[1m Total params: \u001b[0m\u001b[38;5;34m48,962\u001b[0m (191.26 KB)\n"
      ]
     },
     "metadata": {},
     "output_type": "display_data"
    },
    {
     "data": {
      "text/html": [
       "<pre style=\"white-space:pre;overflow-x:auto;line-height:normal;font-family:Menlo,'DejaVu Sans Mono',consolas,'Courier New',monospace\"><span style=\"font-weight: bold\"> Trainable params: </span><span style=\"color: #00af00; text-decoration-color: #00af00\">48,194</span> (188.26 KB)\n",
       "</pre>\n"
      ],
      "text/plain": [
       "\u001b[1m Trainable params: \u001b[0m\u001b[38;5;34m48,194\u001b[0m (188.26 KB)\n"
      ]
     },
     "metadata": {},
     "output_type": "display_data"
    },
    {
     "data": {
      "text/html": [
       "<pre style=\"white-space:pre;overflow-x:auto;line-height:normal;font-family:Menlo,'DejaVu Sans Mono',consolas,'Courier New',monospace\"><span style=\"font-weight: bold\"> Non-trainable params: </span><span style=\"color: #00af00; text-decoration-color: #00af00\">768</span> (3.00 KB)\n",
       "</pre>\n"
      ],
      "text/plain": [
       "\u001b[1m Non-trainable params: \u001b[0m\u001b[38;5;34m768\u001b[0m (3.00 KB)\n"
      ]
     },
     "metadata": {},
     "output_type": "display_data"
    }
   ],
   "source": [
    "from tensorflow import keras\n",
    "from tensorflow.keras import layers\n",
    "\n",
    "input_shape = X_train.shape[1]\n",
    "inputs = keras.Input(shape=(input_shape,))\n",
    "\n",
    "# Deep shared layers\n",
    "x = layers.Dense(256, activation='relu')(inputs)\n",
    "x = layers.BatchNormalization()(x)\n",
    "x = layers.Dropout(0.2)(x)\n",
    "x = layers.Dense(128, activation='relu')(x)\n",
    "x = layers.BatchNormalization()(x)\n",
    "x = layers.Dropout(0.2)(x)\n",
    "x = layers.Dense(64, activation='relu')(x)\n",
    "\n",
    "# Output layers\n",
    "placement_out = layers.Dense(1, activation='sigmoid', name='placement')(x)\n",
    "salary_out = layers.Dense(1, name='salary')(x)\n",
    "\n",
    "model = keras.Model(inputs=inputs, outputs=[placement_out, salary_out])\n",
    "model.compile(\n",
    "    optimizer=keras.optimizers.Adam(learning_rate=0.001),\n",
    "    loss={\n",
    "        'placement': 'binary_crossentropy',\n",
    "        'salary': 'mse'\n",
    "    },\n",
    "    metrics={\n",
    "        'placement': 'accuracy',\n",
    "        'salary': ['mae', 'mse']\n",
    "    }\n",
    ")\n",
    "model.summary()\n"
   ]
  },
  {
   "cell_type": "code",
   "execution_count": 40,
   "metadata": {},
   "outputs": [
    {
     "name": "stdout",
     "output_type": "stream",
     "text": [
      "Epoch 1/100\n",
      "\u001b[1m4/4\u001b[0m \u001b[32m━━━━━━━━━━━━━━━━━━━━\u001b[0m\u001b[37m\u001b[0m \u001b[1m4s\u001b[0m 150ms/step - loss: 187.9388 - placement_accuracy: 0.6015 - placement_loss: 0.8229 - salary_loss: 183.1101 - salary_mae: 10.5789 - salary_mse: 187.1226 - val_loss: 168.6797 - val_placement_accuracy: 0.3448 - val_placement_loss: 0.7320 - val_salary_loss: 167.9477 - val_salary_mae: 9.0307 - val_salary_mse: 167.9477\n",
      "Epoch 2/100\n",
      "\u001b[1m4/4\u001b[0m \u001b[32m━━━━━━━━━━━━━━━━━━━━\u001b[0m\u001b[37m\u001b[0m \u001b[1m0s\u001b[0m 35ms/step - loss: 166.1128 - placement_accuracy: 0.5787 - placement_loss: 0.8815 - salary_loss: 163.5827 - salary_mae: 10.3572 - salary_mse: 165.2299 - val_loss: 164.0660 - val_placement_accuracy: 0.3448 - val_placement_loss: 0.7449 - val_salary_loss: 163.3211 - val_salary_mae: 8.9827 - val_salary_mse: 163.3211\n",
      "Epoch 3/100\n",
      "\u001b[1m4/4\u001b[0m \u001b[32m━━━━━━━━━━━━━━━━━━━━\u001b[0m\u001b[37m\u001b[0m \u001b[1m0s\u001b[0m 37ms/step - loss: 122.0653 - placement_accuracy: 0.5153 - placement_loss: 0.8851 - salary_loss: 126.7763 - salary_mae: 8.9947 - salary_mse: 121.1798 - val_loss: 158.3211 - val_placement_accuracy: 0.3103 - val_placement_loss: 0.7549 - val_salary_loss: 157.5663 - val_salary_mae: 8.8686 - val_salary_mse: 157.5663\n",
      "Epoch 4/100\n",
      "\u001b[1m4/4\u001b[0m \u001b[32m━━━━━━━━━━━━━━━━━━━━\u001b[0m\u001b[37m\u001b[0m \u001b[1m0s\u001b[0m 36ms/step - loss: 112.1007 - placement_accuracy: 0.4882 - placement_loss: 0.9990 - salary_loss: 112.7657 - salary_mae: 8.4871 - salary_mse: 111.0992 - val_loss: 151.5701 - val_placement_accuracy: 0.3448 - val_placement_loss: 0.7577 - val_salary_loss: 150.8125 - val_salary_mae: 8.7041 - val_salary_mse: 150.8125\n",
      "Epoch 5/100\n",
      "\u001b[1m4/4\u001b[0m \u001b[32m━━━━━━━━━━━━━━━━━━━━\u001b[0m\u001b[37m\u001b[0m \u001b[1m0s\u001b[0m 33ms/step - loss: 83.6300 - placement_accuracy: 0.5176 - placement_loss: 0.9677 - salary_loss: 81.3739 - salary_mae: 7.3499 - salary_mse: 82.6646 - val_loss: 143.5291 - val_placement_accuracy: 0.3448 - val_placement_loss: 0.7457 - val_salary_loss: 142.7834 - val_salary_mae: 8.4673 - val_salary_mse: 142.7834\n",
      "Epoch 6/100\n",
      "\u001b[1m4/4\u001b[0m \u001b[32m━━━━━━━━━━━━━━━━━━━━\u001b[0m\u001b[37m\u001b[0m \u001b[1m0s\u001b[0m 37ms/step - loss: 67.5086 - placement_accuracy: 0.4972 - placement_loss: 0.8857 - salary_loss: 66.6824 - salary_mae: 6.7787 - salary_mse: 66.6185 - val_loss: 134.1233 - val_placement_accuracy: 0.4483 - val_placement_loss: 0.7142 - val_salary_loss: 133.4091 - val_salary_mae: 8.1601 - val_salary_mse: 133.4091\n",
      "Epoch 7/100\n",
      "\u001b[1m4/4\u001b[0m \u001b[32m━━━━━━━━━━━━━━━━━━━━\u001b[0m\u001b[37m\u001b[0m \u001b[1m0s\u001b[0m 37ms/step - loss: 57.2253 - placement_accuracy: 0.5055 - placement_loss: 0.8063 - salary_loss: 55.7660 - salary_mae: 6.1421 - salary_mse: 56.4148 - val_loss: 123.3172 - val_placement_accuracy: 0.5517 - val_placement_loss: 0.6735 - val_salary_loss: 122.6437 - val_salary_mae: 7.7778 - val_salary_mse: 122.6437\n",
      "Epoch 8/100\n",
      "\u001b[1m4/4\u001b[0m \u001b[32m━━━━━━━━━━━━━━━━━━━━\u001b[0m\u001b[37m\u001b[0m \u001b[1m0s\u001b[0m 37ms/step - loss: 41.4620 - placement_accuracy: 0.5944 - placement_loss: 0.5906 - salary_loss: 40.4603 - salary_mae: 5.1924 - salary_mse: 40.8636 - val_loss: 112.6970 - val_placement_accuracy: 0.7586 - val_placement_loss: 0.6223 - val_salary_loss: 112.0747 - val_salary_mae: 7.3658 - val_salary_mse: 112.0747\n",
      "Epoch 9/100\n",
      "\u001b[1m4/4\u001b[0m \u001b[32m━━━━━━━━━━━━━━━━━━━━\u001b[0m\u001b[37m\u001b[0m \u001b[1m0s\u001b[0m 41ms/step - loss: 42.4947 - placement_accuracy: 0.7468 - placement_loss: 0.4842 - salary_loss: 41.9521 - salary_mae: 4.9604 - salary_mse: 42.0087 - val_loss: 102.5185 - val_placement_accuracy: 0.8276 - val_placement_loss: 0.5684 - val_salary_loss: 101.9501 - val_salary_mae: 6.9383 - val_salary_mse: 101.9501\n",
      "Epoch 10/100\n",
      "\u001b[1m4/4\u001b[0m \u001b[32m━━━━━━━━━━━━━━━━━━━━\u001b[0m\u001b[37m\u001b[0m \u001b[1m0s\u001b[0m 34ms/step - loss: 32.6707 - placement_accuracy: 0.8716 - placement_loss: 0.3930 - salary_loss: 32.7523 - salary_mae: 4.4900 - salary_mse: 32.2807 - val_loss: 94.1913 - val_placement_accuracy: 0.8276 - val_placement_loss: 0.5182 - val_salary_loss: 93.6732 - val_salary_mae: 6.5492 - val_salary_mse: 93.6732\n",
      "Epoch 11/100\n",
      "\u001b[1m4/4\u001b[0m \u001b[32m━━━━━━━━━━━━━━━━━━━━\u001b[0m\u001b[37m\u001b[0m \u001b[1m0s\u001b[0m 37ms/step - loss: 34.8790 - placement_accuracy: 0.8538 - placement_loss: 0.3450 - salary_loss: 34.0155 - salary_mae: 4.3988 - salary_mse: 34.5303 - val_loss: 87.9636 - val_placement_accuracy: 0.8966 - val_placement_loss: 0.4788 - val_salary_loss: 87.4848 - val_salary_mae: 6.2234 - val_salary_mse: 87.4848\n",
      "Epoch 12/100\n",
      "\u001b[1m4/4\u001b[0m \u001b[32m━━━━━━━━━━━━━━━━━━━━\u001b[0m\u001b[37m\u001b[0m \u001b[1m0s\u001b[0m 34ms/step - loss: 27.1959 - placement_accuracy: 0.9007 - placement_loss: 0.2724 - salary_loss: 26.5262 - salary_mae: 3.7192 - salary_mse: 26.9310 - val_loss: 85.1798 - val_placement_accuracy: 0.8966 - val_placement_loss: 0.4443 - val_salary_loss: 84.7356 - val_salary_mae: 6.0287 - val_salary_mse: 84.7356\n",
      "Epoch 13/100\n",
      "\u001b[1m4/4\u001b[0m \u001b[32m━━━━━━━━━━━━━━━━━━━━\u001b[0m\u001b[37m\u001b[0m \u001b[1m0s\u001b[0m 33ms/step - loss: 28.3463 - placement_accuracy: 0.8854 - placement_loss: 0.2457 - salary_loss: 27.7455 - salary_mae: 3.8069 - salary_mse: 28.1015 - val_loss: 82.0997 - val_placement_accuracy: 0.8966 - val_placement_loss: 0.4135 - val_salary_loss: 81.6863 - val_salary_mae: 5.8632 - val_salary_mse: 81.6863\n",
      "Epoch 14/100\n",
      "\u001b[1m4/4\u001b[0m \u001b[32m━━━━━━━━━━━━━━━━━━━━\u001b[0m\u001b[37m\u001b[0m \u001b[1m0s\u001b[0m 35ms/step - loss: 20.8535 - placement_accuracy: 0.8564 - placement_loss: 0.2759 - salary_loss: 20.6648 - salary_mae: 3.0932 - salary_mse: 20.5786 - val_loss: 80.4838 - val_placement_accuracy: 0.8966 - val_placement_loss: 0.3899 - val_salary_loss: 80.0939 - val_salary_mae: 5.7702 - val_salary_mse: 80.0939\n",
      "Epoch 15/100\n",
      "\u001b[1m4/4\u001b[0m \u001b[32m━━━━━━━━━━━━━━━━━━━━\u001b[0m\u001b[37m\u001b[0m \u001b[1m0s\u001b[0m 40ms/step - loss: 21.0264 - placement_accuracy: 0.8888 - placement_loss: 0.2364 - salary_loss: 20.3355 - salary_mae: 3.1301 - salary_mse: 20.7875 - val_loss: 77.2732 - val_placement_accuracy: 0.9310 - val_placement_loss: 0.3675 - val_salary_loss: 76.9057 - val_salary_mae: 5.5942 - val_salary_mse: 76.9057\n",
      "Epoch 16/100\n",
      "\u001b[1m4/4\u001b[0m \u001b[32m━━━━━━━━━━━━━━━━━━━━\u001b[0m\u001b[37m\u001b[0m \u001b[1m0s\u001b[0m 39ms/step - loss: 23.6769 - placement_accuracy: 0.8906 - placement_loss: 0.2523 - salary_loss: 22.9115 - salary_mae: 3.2563 - salary_mse: 23.4299 - val_loss: 74.3149 - val_placement_accuracy: 0.9310 - val_placement_loss: 0.3491 - val_salary_loss: 73.9658 - val_salary_mae: 5.4192 - val_salary_mse: 73.9658\n",
      "Epoch 17/100\n",
      "\u001b[1m4/4\u001b[0m \u001b[32m━━━━━━━━━━━━━━━━━━━━\u001b[0m\u001b[37m\u001b[0m \u001b[1m0s\u001b[0m 38ms/step - loss: 14.5658 - placement_accuracy: 0.9135 - placement_loss: 0.1734 - salary_loss: 14.3277 - salary_mae: 2.4460 - salary_mse: 14.3929 - val_loss: 71.1808 - val_placement_accuracy: 0.9310 - val_placement_loss: 0.3337 - val_salary_loss: 70.8470 - val_salary_mae: 5.2432 - val_salary_mse: 70.8470\n",
      "Epoch 18/100\n",
      "\u001b[1m4/4\u001b[0m \u001b[32m━━━━━━━━━━━━━━━━━━━━\u001b[0m\u001b[37m\u001b[0m \u001b[1m0s\u001b[0m 38ms/step - loss: 17.3053 - placement_accuracy: 0.8961 - placement_loss: 0.1940 - salary_loss: 16.9607 - salary_mae: 2.8369 - salary_mse: 17.1111 - val_loss: 69.6564 - val_placement_accuracy: 0.9310 - val_placement_loss: 0.3228 - val_salary_loss: 69.3336 - val_salary_mae: 5.1477 - val_salary_mse: 69.3336\n",
      "Epoch 19/100\n",
      "\u001b[1m4/4\u001b[0m \u001b[32m━━━━━━━━━━━━━━━━━━━━\u001b[0m\u001b[37m\u001b[0m \u001b[1m0s\u001b[0m 35ms/step - loss: 21.8649 - placement_accuracy: 0.8486 - placement_loss: 0.2499 - salary_loss: 21.6022 - salary_mae: 3.1175 - salary_mse: 21.6175 - val_loss: 67.0368 - val_placement_accuracy: 0.9655 - val_placement_loss: 0.3133 - val_salary_loss: 66.7235 - val_salary_mae: 5.0011 - val_salary_mse: 66.7235\n",
      "Epoch 20/100\n",
      "\u001b[1m4/4\u001b[0m \u001b[32m━━━━━━━━━━━━━━━━━━━━\u001b[0m\u001b[37m\u001b[0m \u001b[1m0s\u001b[0m 39ms/step - loss: 23.7950 - placement_accuracy: 0.9085 - placement_loss: 0.1990 - salary_loss: 22.9621 - salary_mae: 3.3885 - salary_mse: 23.5950 - val_loss: 65.6791 - val_placement_accuracy: 0.9655 - val_placement_loss: 0.3080 - val_salary_loss: 65.3711 - val_salary_mae: 4.9227 - val_salary_mse: 65.3711\n",
      "Epoch 21/100\n",
      "\u001b[1m4/4\u001b[0m \u001b[32m━━━━━━━━━━━━━━━━━━━━\u001b[0m\u001b[37m\u001b[0m \u001b[1m0s\u001b[0m 35ms/step - loss: 24.0368 - placement_accuracy: 0.9210 - placement_loss: 0.1640 - salary_loss: 23.8313 - salary_mae: 3.3763 - salary_mse: 23.8723 - val_loss: 63.6550 - val_placement_accuracy: 0.9655 - val_placement_loss: 0.3028 - val_salary_loss: 63.3522 - val_salary_mae: 4.8087 - val_salary_mse: 63.3522\n",
      "Epoch 22/100\n",
      "\u001b[1m4/4\u001b[0m \u001b[32m━━━━━━━━━━━━━━━━━━━━\u001b[0m\u001b[37m\u001b[0m \u001b[1m0s\u001b[0m 37ms/step - loss: 10.7556 - placement_accuracy: 0.9225 - placement_loss: 0.1709 - salary_loss: 11.2202 - salary_mae: 2.2019 - salary_mse: 10.5897 - val_loss: 62.9428 - val_placement_accuracy: 0.9655 - val_placement_loss: 0.3004 - val_salary_loss: 62.6424 - val_salary_mae: 4.7669 - val_salary_mse: 62.6424\n",
      "Epoch 23/100\n",
      "\u001b[1m4/4\u001b[0m \u001b[32m━━━━━━━━━━━━━━━━━━━━\u001b[0m\u001b[37m\u001b[0m \u001b[1m0s\u001b[0m 42ms/step - loss: 23.3864 - placement_accuracy: 0.9006 - placement_loss: 0.2078 - salary_loss: 23.2992 - salary_mae: 3.2146 - salary_mse: 23.1771 - val_loss: 60.9861 - val_placement_accuracy: 0.9655 - val_placement_loss: 0.2972 - val_salary_loss: 60.6889 - val_salary_mae: 4.6679 - val_salary_mse: 60.6889\n",
      "Epoch 24/100\n",
      "\u001b[1m4/4\u001b[0m \u001b[32m━━━━━━━━━━━━━━━━━━━━\u001b[0m\u001b[37m\u001b[0m \u001b[1m0s\u001b[0m 35ms/step - loss: 13.8594 - placement_accuracy: 0.9647 - placement_loss: 0.1797 - salary_loss: 13.7981 - salary_mae: 2.6063 - salary_mse: 13.6768 - val_loss: 61.0881 - val_placement_accuracy: 0.9655 - val_placement_loss: 0.2961 - val_salary_loss: 60.7921 - val_salary_mae: 4.6696 - val_salary_mse: 60.7921\n",
      "Epoch 25/100\n",
      "\u001b[1m4/4\u001b[0m \u001b[32m━━━━━━━━━━━━━━━━━━━━\u001b[0m\u001b[37m\u001b[0m \u001b[1m0s\u001b[0m 44ms/step - loss: 13.8445 - placement_accuracy: 0.9561 - placement_loss: 0.1390 - salary_loss: 14.4200 - salary_mae: 2.3940 - salary_mse: 13.7091 - val_loss: 60.4919 - val_placement_accuracy: 0.9655 - val_placement_loss: 0.2957 - val_salary_loss: 60.1962 - val_salary_mae: 4.6405 - val_salary_mse: 60.1962\n",
      "Epoch 26/100\n",
      "\u001b[1m4/4\u001b[0m \u001b[32m━━━━━━━━━━━━━━━━━━━━\u001b[0m\u001b[37m\u001b[0m \u001b[1m0s\u001b[0m 37ms/step - loss: 13.6125 - placement_accuracy: 0.9270 - placement_loss: 0.1631 - salary_loss: 13.5577 - salary_mae: 2.3806 - salary_mse: 13.4499 - val_loss: 57.9820 - val_placement_accuracy: 0.9310 - val_placement_loss: 0.2943 - val_salary_loss: 57.6876 - val_salary_mae: 4.5160 - val_salary_mse: 57.6876\n",
      "Epoch 27/100\n",
      "\u001b[1m4/4\u001b[0m \u001b[32m━━━━━━━━━━━━━━━━━━━━\u001b[0m\u001b[37m\u001b[0m \u001b[1m0s\u001b[0m 38ms/step - loss: 14.8841 - placement_accuracy: 0.9051 - placement_loss: 0.1717 - salary_loss: 15.0045 - salary_mae: 2.4886 - salary_mse: 14.7161 - val_loss: 57.3670 - val_placement_accuracy: 0.9310 - val_placement_loss: 0.2947 - val_salary_loss: 57.0724 - val_salary_mae: 4.4738 - val_salary_mse: 57.0724\n",
      "Epoch 28/100\n",
      "\u001b[1m4/4\u001b[0m \u001b[32m━━━━━━━━━━━━━━━━━━━━\u001b[0m\u001b[37m\u001b[0m \u001b[1m0s\u001b[0m 40ms/step - loss: 10.9337 - placement_accuracy: 0.9335 - placement_loss: 0.1557 - salary_loss: 11.0662 - salary_mae: 2.1577 - salary_mse: 10.7768 - val_loss: 56.4805 - val_placement_accuracy: 0.9310 - val_placement_loss: 0.2951 - val_salary_loss: 56.1854 - val_salary_mae: 4.4128 - val_salary_mse: 56.1854\n",
      "Epoch 29/100\n",
      "\u001b[1m4/4\u001b[0m \u001b[32m━━━━━━━━━━━━━━━━━━━━\u001b[0m\u001b[37m\u001b[0m \u001b[1m0s\u001b[0m 37ms/step - loss: 12.4484 - placement_accuracy: 0.9117 - placement_loss: 0.1681 - salary_loss: 12.2505 - salary_mae: 2.3728 - salary_mse: 12.2801 - val_loss: 54.7342 - val_placement_accuracy: 0.9310 - val_placement_loss: 0.2945 - val_salary_loss: 54.4397 - val_salary_mae: 4.3088 - val_salary_mse: 54.4397\n",
      "Epoch 30/100\n",
      "\u001b[1m4/4\u001b[0m \u001b[32m━━━━━━━━━━━━━━━━━━━━\u001b[0m\u001b[37m\u001b[0m \u001b[1m0s\u001b[0m 38ms/step - loss: 19.8670 - placement_accuracy: 0.9540 - placement_loss: 0.1556 - salary_loss: 19.2313 - salary_mae: 2.7964 - salary_mse: 19.7145 - val_loss: 54.1748 - val_placement_accuracy: 0.9310 - val_placement_loss: 0.2952 - val_salary_loss: 53.8797 - val_salary_mae: 4.2619 - val_salary_mse: 53.8797\n",
      "Epoch 31/100\n",
      "\u001b[1m4/4\u001b[0m \u001b[32m━━━━━━━━━━━━━━━━━━━━\u001b[0m\u001b[37m\u001b[0m \u001b[1m0s\u001b[0m 33ms/step - loss: 11.3108 - placement_accuracy: 0.9360 - placement_loss: 0.1495 - salary_loss: 11.0321 - salary_mae: 2.1867 - salary_mse: 11.1605 - val_loss: 54.1987 - val_placement_accuracy: 0.8966 - val_placement_loss: 0.2960 - val_salary_loss: 53.9027 - val_salary_mae: 4.2567 - val_salary_mse: 53.9027\n",
      "Epoch 32/100\n",
      "\u001b[1m4/4\u001b[0m \u001b[32m━━━━━━━━━━━━━━━━━━━━\u001b[0m\u001b[37m\u001b[0m \u001b[1m0s\u001b[0m 41ms/step - loss: 11.2594 - placement_accuracy: 0.9415 - placement_loss: 0.1330 - salary_loss: 11.7484 - salary_mae: 2.2147 - salary_mse: 11.1252 - val_loss: 54.2911 - val_placement_accuracy: 0.8966 - val_placement_loss: 0.2960 - val_salary_loss: 53.9950 - val_salary_mae: 4.2611 - val_salary_mse: 53.9950\n",
      "Epoch 33/100\n",
      "\u001b[1m4/4\u001b[0m \u001b[32m━━━━━━━━━━━━━━━━━━━━\u001b[0m\u001b[37m\u001b[0m \u001b[1m0s\u001b[0m 40ms/step - loss: 10.1415 - placement_accuracy: 0.9245 - placement_loss: 0.1697 - salary_loss: 9.9287 - salary_mae: 2.1656 - salary_mse: 9.9692 - val_loss: 52.5998 - val_placement_accuracy: 0.8966 - val_placement_loss: 0.2933 - val_salary_loss: 52.3064 - val_salary_mae: 4.1855 - val_salary_mse: 52.3064\n",
      "Epoch 34/100\n",
      "\u001b[1m4/4\u001b[0m \u001b[32m━━━━━━━━━━━━━━━━━━━━\u001b[0m\u001b[37m\u001b[0m \u001b[1m0s\u001b[0m 34ms/step - loss: 13.0483 - placement_accuracy: 0.9581 - placement_loss: 0.1705 - salary_loss: 12.7448 - salary_mae: 2.3001 - salary_mse: 12.8778 - val_loss: 50.1042 - val_placement_accuracy: 0.8966 - val_placement_loss: 0.2907 - val_salary_loss: 49.8135 - val_salary_mae: 4.0771 - val_salary_mse: 49.8135\n",
      "Epoch 35/100\n",
      "\u001b[1m4/4\u001b[0m \u001b[32m━━━━━━━━━━━━━━━━━━━━\u001b[0m\u001b[37m\u001b[0m \u001b[1m0s\u001b[0m 37ms/step - loss: 14.5948 - placement_accuracy: 0.9262 - placement_loss: 0.1721 - salary_loss: 14.3512 - salary_mae: 2.8077 - salary_mse: 14.4196 - val_loss: 48.6090 - val_placement_accuracy: 0.8966 - val_placement_loss: 0.2903 - val_salary_loss: 48.3187 - val_salary_mae: 4.0164 - val_salary_mse: 48.3187\n",
      "Epoch 36/100\n",
      "\u001b[1m4/4\u001b[0m \u001b[32m━━━━━━━━━━━━━━━━━━━━\u001b[0m\u001b[37m\u001b[0m \u001b[1m0s\u001b[0m 37ms/step - loss: 14.5240 - placement_accuracy: 0.9363 - placement_loss: 0.1742 - salary_loss: 14.0458 - salary_mae: 2.5740 - salary_mse: 14.3464 - val_loss: 46.7298 - val_placement_accuracy: 0.8966 - val_placement_loss: 0.2892 - val_salary_loss: 46.4406 - val_salary_mae: 3.9404 - val_salary_mse: 46.4406\n",
      "Epoch 37/100\n",
      "\u001b[1m4/4\u001b[0m \u001b[32m━━━━━━━━━━━━━━━━━━━━\u001b[0m\u001b[37m\u001b[0m \u001b[1m0s\u001b[0m 35ms/step - loss: 15.2605 - placement_accuracy: 0.9314 - placement_loss: 0.1743 - salary_loss: 14.9586 - salary_mae: 2.7109 - salary_mse: 15.0888 - val_loss: 46.3777 - val_placement_accuracy: 0.8966 - val_placement_loss: 0.2921 - val_salary_loss: 46.0856 - val_salary_mae: 3.9441 - val_salary_mse: 46.0856\n",
      "Epoch 38/100\n",
      "\u001b[1m4/4\u001b[0m \u001b[32m━━━━━━━━━━━━━━━━━━━━\u001b[0m\u001b[37m\u001b[0m \u001b[1m0s\u001b[0m 35ms/step - loss: 12.1845 - placement_accuracy: 0.9730 - placement_loss: 0.1210 - salary_loss: 12.7334 - salary_mae: 2.4183 - salary_mse: 12.0656 - val_loss: 47.4339 - val_placement_accuracy: 0.8966 - val_placement_loss: 0.2988 - val_salary_loss: 47.1351 - val_salary_mae: 4.0141 - val_salary_mse: 47.1351\n",
      "Epoch 39/100\n",
      "\u001b[1m4/4\u001b[0m \u001b[32m━━━━━━━━━━━━━━━━━━━━\u001b[0m\u001b[37m\u001b[0m \u001b[1m0s\u001b[0m 40ms/step - loss: 10.2144 - placement_accuracy: 0.9675 - placement_loss: 0.1308 - salary_loss: 10.7148 - salary_mae: 2.0999 - salary_mse: 10.0842 - val_loss: 46.7671 - val_placement_accuracy: 0.8966 - val_placement_loss: 0.3002 - val_salary_loss: 46.4669 - val_salary_mae: 3.9765 - val_salary_mse: 46.4669\n",
      "Epoch 40/100\n",
      "\u001b[1m4/4\u001b[0m \u001b[32m━━━━━━━━━━━━━━━━━━━━\u001b[0m\u001b[37m\u001b[0m \u001b[1m0s\u001b[0m 40ms/step - loss: 10.2628 - placement_accuracy: 0.9501 - placement_loss: 0.1210 - salary_loss: 9.9797 - salary_mae: 1.9303 - salary_mse: 10.1418 - val_loss: 44.3687 - val_placement_accuracy: 0.8966 - val_placement_loss: 0.2962 - val_salary_loss: 44.0725 - val_salary_mae: 3.8226 - val_salary_mse: 44.0725\n",
      "Epoch 41/100\n",
      "\u001b[1m4/4\u001b[0m \u001b[32m━━━━━━━━━━━━━━━━━━━━\u001b[0m\u001b[37m\u001b[0m \u001b[1m0s\u001b[0m 37ms/step - loss: 12.2017 - placement_accuracy: 0.9758 - placement_loss: 0.1140 - salary_loss: 12.1409 - salary_mae: 2.2582 - salary_mse: 12.0897 - val_loss: 43.4825 - val_placement_accuracy: 0.8966 - val_placement_loss: 0.2945 - val_salary_loss: 43.1880 - val_salary_mae: 3.7719 - val_salary_mse: 43.1880\n",
      "Epoch 42/100\n",
      "\u001b[1m4/4\u001b[0m \u001b[32m━━━━━━━━━━━━━━━━━━━━\u001b[0m\u001b[37m\u001b[0m \u001b[1m0s\u001b[0m 36ms/step - loss: 11.1217 - placement_accuracy: 0.9678 - placement_loss: 0.1068 - salary_loss: 11.3072 - salary_mae: 2.2113 - salary_mse: 11.0135 - val_loss: 44.0200 - val_placement_accuracy: 0.8966 - val_placement_loss: 0.2956 - val_salary_loss: 43.7243 - val_salary_mae: 3.8028 - val_salary_mse: 43.7243\n",
      "Epoch 43/100\n",
      "\u001b[1m4/4\u001b[0m \u001b[32m━━━━━━━━━━━━━━━━━━━━\u001b[0m\u001b[37m\u001b[0m \u001b[1m0s\u001b[0m 37ms/step - loss: 11.6614 - placement_accuracy: 0.9429 - placement_loss: 0.1715 - salary_loss: 11.5343 - salary_mae: 2.3514 - salary_mse: 11.4936 - val_loss: 42.9586 - val_placement_accuracy: 0.8966 - val_placement_loss: 0.2912 - val_salary_loss: 42.6674 - val_salary_mae: 3.7572 - val_salary_mse: 42.6674\n",
      "Epoch 44/100\n",
      "\u001b[1m4/4\u001b[0m \u001b[32m━━━━━━━━━━━━━━━━━━━━\u001b[0m\u001b[37m\u001b[0m \u001b[1m0s\u001b[0m 40ms/step - loss: 9.7139 - placement_accuracy: 0.9682 - placement_loss: 0.1058 - salary_loss: 9.8335 - salary_mae: 2.0929 - salary_mse: 9.6088 - val_loss: 42.6177 - val_placement_accuracy: 0.8966 - val_placement_loss: 0.2902 - val_salary_loss: 42.3275 - val_salary_mae: 3.7273 - val_salary_mse: 42.3275\n",
      "Epoch 45/100\n",
      "\u001b[1m4/4\u001b[0m \u001b[32m━━━━━━━━━━━━━━━━━━━━\u001b[0m\u001b[37m\u001b[0m \u001b[1m0s\u001b[0m 37ms/step - loss: 8.6634 - placement_accuracy: 0.9411 - placement_loss: 0.1185 - salary_loss: 8.2830 - salary_mae: 1.9374 - salary_mse: 8.5431 - val_loss: 44.3531 - val_placement_accuracy: 0.8966 - val_placement_loss: 0.2965 - val_salary_loss: 44.0566 - val_salary_mae: 3.8249 - val_salary_mse: 44.0566\n",
      "Epoch 46/100\n",
      "\u001b[1m4/4\u001b[0m \u001b[32m━━━━━━━━━━━━━━━━━━━━\u001b[0m\u001b[37m\u001b[0m \u001b[1m0s\u001b[0m 35ms/step - loss: 13.0465 - placement_accuracy: 0.9446 - placement_loss: 0.1466 - salary_loss: 12.7719 - salary_mae: 2.3100 - salary_mse: 12.8986 - val_loss: 44.3811 - val_placement_accuracy: 0.8966 - val_placement_loss: 0.2982 - val_salary_loss: 44.0829 - val_salary_mae: 3.8552 - val_salary_mse: 44.0829\n",
      "Epoch 47/100\n",
      "\u001b[1m4/4\u001b[0m \u001b[32m━━━━━━━━━━━━━━━━━━━━\u001b[0m\u001b[37m\u001b[0m \u001b[1m0s\u001b[0m 36ms/step - loss: 8.4860 - placement_accuracy: 0.9606 - placement_loss: 0.1169 - salary_loss: 8.7243 - salary_mae: 2.0664 - salary_mse: 8.3657 - val_loss: 41.7331 - val_placement_accuracy: 0.8966 - val_placement_loss: 0.2948 - val_salary_loss: 41.4383 - val_salary_mae: 3.7530 - val_salary_mse: 41.4383\n",
      "Epoch 48/100\n",
      "\u001b[1m4/4\u001b[0m \u001b[32m━━━━━━━━━━━━━━━━━━━━\u001b[0m\u001b[37m\u001b[0m \u001b[1m0s\u001b[0m 40ms/step - loss: 9.7376 - placement_accuracy: 0.9695 - placement_loss: 0.0977 - salary_loss: 9.5017 - salary_mae: 2.0261 - salary_mse: 9.6420 - val_loss: 39.8451 - val_placement_accuracy: 0.8966 - val_placement_loss: 0.2940 - val_salary_loss: 39.5511 - val_salary_mae: 3.6375 - val_salary_mse: 39.5511\n",
      "Epoch 49/100\n",
      "\u001b[1m4/4\u001b[0m \u001b[32m━━━━━━━━━━━━━━━━━━━━\u001b[0m\u001b[37m\u001b[0m \u001b[1m0s\u001b[0m 36ms/step - loss: 8.3774 - placement_accuracy: 0.9758 - placement_loss: 0.1063 - salary_loss: 8.2586 - salary_mae: 1.8977 - salary_mse: 8.2748 - val_loss: 39.4965 - val_placement_accuracy: 0.8966 - val_placement_loss: 0.2951 - val_salary_loss: 39.2014 - val_salary_mae: 3.6270 - val_salary_mse: 39.2014\n",
      "Epoch 50/100\n",
      "\u001b[1m4/4\u001b[0m \u001b[32m━━━━━━━━━━━━━━━━━━━━\u001b[0m\u001b[37m\u001b[0m \u001b[1m0s\u001b[0m 44ms/step - loss: 13.3014 - placement_accuracy: 0.9529 - placement_loss: 0.1213 - salary_loss: 12.9989 - salary_mae: 2.4767 - salary_mse: 13.1796 - val_loss: 39.2274 - val_placement_accuracy: 0.8966 - val_placement_loss: 0.2973 - val_salary_loss: 38.9301 - val_salary_mae: 3.6583 - val_salary_mse: 38.9301\n",
      "Epoch 51/100\n",
      "\u001b[1m4/4\u001b[0m \u001b[32m━━━━━━━━━━━━━━━━━━━━\u001b[0m\u001b[37m\u001b[0m \u001b[1m0s\u001b[0m 39ms/step - loss: 12.4708 - placement_accuracy: 0.9529 - placement_loss: 0.0988 - salary_loss: 12.2983 - salary_mae: 2.4158 - salary_mse: 12.3707 - val_loss: 38.7683 - val_placement_accuracy: 0.8966 - val_placement_loss: 0.2987 - val_salary_loss: 38.4696 - val_salary_mae: 3.6641 - val_salary_mse: 38.4696\n",
      "Epoch 52/100\n",
      "\u001b[1m4/4\u001b[0m \u001b[32m━━━━━━━━━━━━━━━━━━━━\u001b[0m\u001b[37m\u001b[0m \u001b[1m0s\u001b[0m 34ms/step - loss: 11.1183 - placement_accuracy: 0.9643 - placement_loss: 0.1075 - salary_loss: 10.7948 - salary_mae: 2.2499 - salary_mse: 11.0123 - val_loss: 38.6257 - val_placement_accuracy: 0.8966 - val_placement_loss: 0.3023 - val_salary_loss: 38.3234 - val_salary_mae: 3.6810 - val_salary_mse: 38.3234\n",
      "Epoch 53/100\n",
      "\u001b[1m4/4\u001b[0m \u001b[32m━━━━━━━━━━━━━━━━━━━━\u001b[0m\u001b[37m\u001b[0m \u001b[1m0s\u001b[0m 33ms/step - loss: 8.0674 - placement_accuracy: 0.9615 - placement_loss: 0.1002 - salary_loss: 7.8693 - salary_mae: 1.9150 - salary_mse: 7.9662 - val_loss: 38.1383 - val_placement_accuracy: 0.8966 - val_placement_loss: 0.3041 - val_salary_loss: 37.8342 - val_salary_mae: 3.6823 - val_salary_mse: 37.8342\n",
      "Epoch 54/100\n",
      "\u001b[1m4/4\u001b[0m \u001b[32m━━━━━━━━━━━━━━━━━━━━\u001b[0m\u001b[37m\u001b[0m \u001b[1m0s\u001b[0m 33ms/step - loss: 9.2529 - placement_accuracy: 0.9245 - placement_loss: 0.1174 - salary_loss: 9.2527 - salary_mae: 2.1319 - salary_mse: 9.1332 - val_loss: 36.8023 - val_placement_accuracy: 0.8966 - val_placement_loss: 0.3024 - val_salary_loss: 36.4999 - val_salary_mae: 3.6065 - val_salary_mse: 36.4999\n",
      "Epoch 55/100\n",
      "\u001b[1m4/4\u001b[0m \u001b[32m━━━━━━━━━━━━━━━━━━━━\u001b[0m\u001b[37m\u001b[0m \u001b[1m0s\u001b[0m 36ms/step - loss: 9.8155 - placement_accuracy: 0.9546 - placement_loss: 0.0983 - salary_loss: 10.0007 - salary_mae: 2.3213 - salary_mse: 9.7214 - val_loss: 34.9038 - val_placement_accuracy: 0.8966 - val_placement_loss: 0.2991 - val_salary_loss: 34.6047 - val_salary_mae: 3.4865 - val_salary_mse: 34.6047\n",
      "Epoch 56/100\n",
      "\u001b[1m4/4\u001b[0m \u001b[32m━━━━━━━━━━━━━━━━━━━━\u001b[0m\u001b[37m\u001b[0m \u001b[1m0s\u001b[0m 42ms/step - loss: 11.1328 - placement_accuracy: 0.9560 - placement_loss: 0.1098 - salary_loss: 11.2998 - salary_mae: 2.3896 - salary_mse: 11.0219 - val_loss: 33.5364 - val_placement_accuracy: 0.8966 - val_placement_loss: 0.2997 - val_salary_loss: 33.2366 - val_salary_mae: 3.4084 - val_salary_mse: 33.2366\n",
      "Epoch 57/100\n",
      "\u001b[1m4/4\u001b[0m \u001b[32m━━━━━━━━━━━━━━━━━━━━\u001b[0m\u001b[37m\u001b[0m \u001b[1m0s\u001b[0m 38ms/step - loss: 9.5022 - placement_accuracy: 0.9816 - placement_loss: 0.1009 - salary_loss: 9.5356 - salary_mae: 2.2176 - salary_mse: 9.4042 - val_loss: 35.3611 - val_placement_accuracy: 0.8966 - val_placement_loss: 0.3151 - val_salary_loss: 35.0460 - val_salary_mae: 3.5603 - val_salary_mse: 35.0460\n",
      "Epoch 58/100\n",
      "\u001b[1m4/4\u001b[0m \u001b[32m━━━━━━━━━━━━━━━━━━━━\u001b[0m\u001b[37m\u001b[0m \u001b[1m0s\u001b[0m 43ms/step - loss: 13.0755 - placement_accuracy: 0.9259 - placement_loss: 0.1403 - salary_loss: 12.6358 - salary_mae: 2.5663 - salary_mse: 12.9321 - val_loss: 38.1303 - val_placement_accuracy: 0.8966 - val_placement_loss: 0.3375 - val_salary_loss: 37.7928 - val_salary_mae: 3.7316 - val_salary_mse: 37.7928\n",
      "Epoch 59/100\n",
      "\u001b[1m4/4\u001b[0m \u001b[32m━━━━━━━━━━━━━━━━━━━━\u001b[0m\u001b[37m\u001b[0m \u001b[1m0s\u001b[0m 36ms/step - loss: 7.6157 - placement_accuracy: 0.9764 - placement_loss: 0.1004 - salary_loss: 7.6270 - salary_mae: 1.8801 - salary_mse: 7.5140 - val_loss: 38.1748 - val_placement_accuracy: 0.8621 - val_placement_loss: 0.3468 - val_salary_loss: 37.8280 - val_salary_mae: 3.7125 - val_salary_mse: 37.8280\n",
      "Epoch 60/100\n",
      "\u001b[1m4/4\u001b[0m \u001b[32m━━━━━━━━━━━━━━━━━━━━\u001b[0m\u001b[37m\u001b[0m \u001b[1m0s\u001b[0m 38ms/step - loss: 9.2463 - placement_accuracy: 0.9692 - placement_loss: 0.1070 - salary_loss: 9.1846 - salary_mae: 2.0793 - salary_mse: 9.1450 - val_loss: 35.6756 - val_placement_accuracy: 0.8966 - val_placement_loss: 0.3366 - val_salary_loss: 35.3390 - val_salary_mae: 3.5014 - val_salary_mse: 35.3390\n",
      "Epoch 61/100\n",
      "\u001b[1m4/4\u001b[0m \u001b[32m━━━━━━━━━━━━━━━━━━━━\u001b[0m\u001b[37m\u001b[0m \u001b[1m0s\u001b[0m 32ms/step - loss: 7.8100 - placement_accuracy: 0.9827 - placement_loss: 0.0837 - salary_loss: 7.7990 - salary_mae: 2.0010 - salary_mse: 7.7266 - val_loss: 33.7518 - val_placement_accuracy: 0.8966 - val_placement_loss: 0.3265 - val_salary_loss: 33.4253 - val_salary_mae: 3.3589 - val_salary_mse: 33.4253\n",
      "Epoch 62/100\n",
      "\u001b[1m4/4\u001b[0m \u001b[32m━━━━━━━━━━━━━━━━━━━━\u001b[0m\u001b[37m\u001b[0m \u001b[1m0s\u001b[0m 35ms/step - loss: 16.4680 - placement_accuracy: 0.9439 - placement_loss: 0.1592 - salary_loss: 16.0801 - salary_mae: 2.8421 - salary_mse: 16.3108 - val_loss: 34.0750 - val_placement_accuracy: 0.8966 - val_placement_loss: 0.3246 - val_salary_loss: 33.7504 - val_salary_mae: 3.3848 - val_salary_mse: 33.7504\n",
      "Epoch 63/100\n",
      "\u001b[1m4/4\u001b[0m \u001b[32m━━━━━━━━━━━━━━━━━━━━\u001b[0m\u001b[37m\u001b[0m \u001b[1m0s\u001b[0m 43ms/step - loss: 10.7181 - placement_accuracy: 0.9772 - placement_loss: 0.1038 - salary_loss: 10.3486 - salary_mae: 2.3524 - salary_mse: 10.6132 - val_loss: 36.6277 - val_placement_accuracy: 0.8966 - val_placement_loss: 0.3340 - val_salary_loss: 36.2937 - val_salary_mae: 3.5365 - val_salary_mse: 36.2937\n",
      "Epoch 64/100\n",
      "\u001b[1m4/4\u001b[0m \u001b[32m━━━━━━━━━━━━━━━━━━━━\u001b[0m\u001b[37m\u001b[0m \u001b[1m0s\u001b[0m 35ms/step - loss: 7.3089 - placement_accuracy: 0.9910 - placement_loss: 0.0726 - salary_loss: 7.1623 - salary_mae: 1.8354 - salary_mse: 7.2368 - val_loss: 37.9025 - val_placement_accuracy: 0.8966 - val_placement_loss: 0.3382 - val_salary_loss: 37.5643 - val_salary_mae: 3.6099 - val_salary_mse: 37.5643\n",
      "Epoch 65/100\n",
      "\u001b[1m4/4\u001b[0m \u001b[32m━━━━━━━━━━━━━━━━━━━━\u001b[0m\u001b[37m\u001b[0m \u001b[1m0s\u001b[0m 42ms/step - loss: 11.0753 - placement_accuracy: 0.9851 - placement_loss: 0.0890 - salary_loss: 10.9565 - salary_mae: 2.1120 - salary_mse: 10.9850 - val_loss: 36.9474 - val_placement_accuracy: 0.8966 - val_placement_loss: 0.3331 - val_salary_loss: 36.6143 - val_salary_mae: 3.5490 - val_salary_mse: 36.6143\n",
      "Epoch 66/100\n",
      "\u001b[1m4/4\u001b[0m \u001b[32m━━━━━━━━━━━━━━━━━━━━\u001b[0m\u001b[37m\u001b[0m \u001b[1m0s\u001b[0m 35ms/step - loss: 6.7029 - placement_accuracy: 0.9536 - placement_loss: 0.0954 - salary_loss: 6.9569 - salary_mae: 1.6478 - salary_mse: 6.6057 - val_loss: 35.1131 - val_placement_accuracy: 0.8966 - val_placement_loss: 0.3269 - val_salary_loss: 34.7862 - val_salary_mae: 3.4618 - val_salary_mse: 34.7862\n"
     ]
    }
   ],
   "source": [
    "from tensorflow.keras import callbacks\n",
    "\n",
    "early_stopping = callbacks.EarlyStopping(\n",
    "    patience=10,\n",
    "    restore_best_weights=True,\n",
    "    monitor='val_loss'\n",
    ")\n",
    "\n",
    "history = model.fit(\n",
    "    X_train,\n",
    "    {\n",
    "        'placement': y_place_train,\n",
    "        'salary': y_salary_train\n",
    "    },\n",
    "    validation_data=(\n",
    "        X_test,\n",
    "        {\n",
    "            'placement': y_place_test,\n",
    "            'salary': y_salary_test\n",
    "        }\n",
    "    ),\n",
    "    epochs=100,\n",
    "    batch_size=32,\n",
    "    callbacks=[early_stopping],\n",
    "    verbose=1\n",
    ")"
   ]
  },
  {
   "cell_type": "code",
   "execution_count": 41,
   "metadata": {},
   "outputs": [
    {
     "name": "stdout",
     "output_type": "stream",
     "text": [
      "\n",
      "Evaluation Metrics:\n",
      "Placement Accuracy: 0.8966\n",
      "Salary MAE: 3.41\n",
      "Salary MSE: 33.24\n",
      "\u001b[1m1/1\u001b[0m \u001b[32m━━━━━━━━━━━━━━━━━━━━\u001b[0m\u001b[37m\u001b[0m \u001b[1m0s\u001b[0m 166ms/step\n",
      "\n",
      "Sample Predictions:\n",
      "Student 1: Placement Prob: 0.79 | Pred Salary: 4.52\n",
      "Student 2: Placement Prob: 0.24 | Pred Salary: 0.82\n",
      "Student 3: Placement Prob: 1.00 | Pred Salary: 16.55\n",
      "Student 4: Placement Prob: 0.98 | Pred Salary: 9.15\n",
      "Student 5: Placement Prob: 1.00 | Pred Salary: 14.94\n"
     ]
    }
   ],
   "source": [
    "# Evaluate on test set\n",
    "results = model.evaluate(\n",
    "    X_test,\n",
    "    {\n",
    "        'placement': y_place_test,\n",
    "        'salary': y_salary_test\n",
    "    },\n",
    "    verbose=0\n",
    ")\n",
    "\n",
    "# Print metrics\n",
    "print(\"\\nEvaluation Metrics:\")\n",
    "print(f\"Placement Accuracy: {results[3]:.4f}\")\n",
    "print(f\"Salary MAE: {results[4]:.2f}\")\n",
    "print(f\"Salary MSE: {results[5]:.2f}\")\n",
    "\n",
    "# Generate predictions\n",
    "placement_pred, salary_pred = model.predict(X_test[:5])\n",
    "print(\"\\nSample Predictions:\")\n",
    "for i in range(5):\n",
    "    print(f\"Student {i+1}: Placement Prob: {placement_pred[i][0]:.2f} | Pred Salary: {salary_pred[i][0]:.2f}\")"
   ]
  },
  {
   "cell_type": "code",
   "execution_count": 42,
   "metadata": {},
   "outputs": [
    {
     "name": "stdout",
     "output_type": "stream",
     "text": [
      "\u001b[1m1/1\u001b[0m \u001b[32m━━━━━━━━━━━━━━━━━━━━\u001b[0m\u001b[37m\u001b[0m \u001b[1m0s\u001b[0m 119ms/step\n",
      "\n",
      "🧠 Evaluation Metrics:\n",
      "Placement Accuracy : 0.8966\n",
      "Precision           : 0.8696\n",
      "Recall              : 1.0000\n",
      "F1 Score            : 0.9302\n",
      "Confusion Matrix:\n",
      "[[ 6  3]\n",
      " [ 0 20]]\n",
      "\n",
      "Classification Report:\n",
      "               precision    recall  f1-score   support\n",
      "\n",
      "         0.0       1.00      0.67      0.80         9\n",
      "         1.0       0.87      1.00      0.93        20\n",
      "\n",
      "    accuracy                           0.90        29\n",
      "   macro avg       0.93      0.83      0.87        29\n",
      "weighted avg       0.91      0.90      0.89        29\n",
      "\n",
      "\n",
      "📈 Salary Prediction Metrics:\n",
      "MAE   : 3.41\n",
      "MSE   : 33.24\n",
      "RMSE  : 5.77\n",
      "R²    : 0.6373\n",
      "\n",
      "🔍 Sample Predictions:\n",
      "Student 1: Placement Prob: 0.79 | Pred Salary: 4.52\n",
      "Student 2: Placement Prob: 0.24 | Pred Salary: 0.82\n",
      "Student 3: Placement Prob: 1.00 | Pred Salary: 16.55\n",
      "Student 4: Placement Prob: 0.98 | Pred Salary: 9.15\n",
      "Student 5: Placement Prob: 1.00 | Pred Salary: 14.94\n"
     ]
    }
   ],
   "source": [
    "from sklearn.metrics import accuracy_score, precision_score, recall_score, f1_score, confusion_matrix, classification_report, r2_score, mean_absolute_error, mean_squared_error\n",
    "import numpy as np\n",
    "\n",
    "# Evaluate Keras model on test set (to get Keras metrics too)\n",
    "results = model.evaluate(\n",
    "    X_test,\n",
    "    {\n",
    "        'placement': y_place_test,\n",
    "        'salary': y_salary_test\n",
    "    },\n",
    "    verbose=0\n",
    ")\n",
    "\n",
    "# Get predictions\n",
    "placement_pred_probs, salary_pred = model.predict(X_test)\n",
    "placement_pred_classes = (placement_pred_probs > 0.5).astype(int)  # Convert probabilities to 0 or 1\n",
    "\n",
    "# ----------- Classification Metrics (Placement) -----------\n",
    "acc = accuracy_score(y_place_test, placement_pred_classes)\n",
    "precision = precision_score(y_place_test, placement_pred_classes)\n",
    "recall = recall_score(y_place_test, placement_pred_classes)\n",
    "f1 = f1_score(y_place_test, placement_pred_classes)\n",
    "conf_matrix = confusion_matrix(y_place_test, placement_pred_classes)\n",
    "class_report = classification_report(y_place_test, placement_pred_classes)\n",
    "\n",
    "# ----------- Regression Metrics (Salary) -----------\n",
    "mae = mean_absolute_error(y_salary_test, salary_pred)\n",
    "mse = mean_squared_error(y_salary_test, salary_pred)\n",
    "rmse = np.sqrt(mse)\n",
    "r2 = r2_score(y_salary_test, salary_pred)\n",
    "\n",
    "# ----------- Print Evaluation Metrics -----------\n",
    "print(\"\\n🧠 Evaluation Metrics:\")\n",
    "print(f\"Placement Accuracy : {acc:.4f}\")\n",
    "print(f\"Precision           : {precision:.4f}\")\n",
    "print(f\"Recall              : {recall:.4f}\")\n",
    "print(f\"F1 Score            : {f1:.4f}\")\n",
    "print(f\"Confusion Matrix:\\n{conf_matrix}\")\n",
    "print(\"\\nClassification Report:\\n\", class_report)\n",
    "\n",
    "print(\"\\n📈 Salary Prediction Metrics:\")\n",
    "print(f\"MAE   : {mae:.2f}\")\n",
    "print(f\"MSE   : {mse:.2f}\")\n",
    "print(f\"RMSE  : {rmse:.2f}\")\n",
    "print(f\"R²    : {r2:.4f}\")\n",
    "\n",
    "# ----------- Sample Predictions -----------\n",
    "print(\"\\n🔍 Sample Predictions:\")\n",
    "for i in range(5):\n",
    "    print(f\"Student {i+1}: Placement Prob: {placement_pred_probs[i][0]:.2f} | Pred Salary: {salary_pred[i][0]:.2f}\")\n"
   ]
  },
  {
   "cell_type": "code",
   "execution_count": 44,
   "metadata": {},
   "outputs": [
    {
     "name": "stderr",
     "output_type": "stream",
     "text": [
      "WARNING:absl:You are saving your model as an HDF5 file via `model.save()` or `keras.saving.save_model(model)`. This file format is considered legacy. We recommend using instead the native Keras format, e.g. `model.save('my_model.keras')` or `keras.saving.save_model(model, 'my_model.keras')`. \n"
     ]
    }
   ],
   "source": [
    "model.save(\"placement_salary_ann_model.h5\")\n"
   ]
  }
 ],
 "metadata": {
  "kernelspec": {
   "display_name": "Python 3",
   "language": "python",
   "name": "python3"
  },
  "language_info": {
   "codemirror_mode": {
    "name": "ipython",
    "version": 3
   },
   "file_extension": ".py",
   "mimetype": "text/x-python",
   "name": "python",
   "nbconvert_exporter": "python",
   "pygments_lexer": "ipython3",
   "version": "3.10.0"
  }
 },
 "nbformat": 4,
 "nbformat_minor": 2
}
