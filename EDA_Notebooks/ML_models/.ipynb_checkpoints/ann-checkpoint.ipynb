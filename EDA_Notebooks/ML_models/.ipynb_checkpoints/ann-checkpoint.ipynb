{
 "cells": [
  {
   "cell_type": "code",
   "execution_count": null,
   "metadata": {},
   "outputs": [
    {
     "ename": "SyntaxError",
     "evalue": "invalid syntax (1477791081.py, line 2)",
     "output_type": "error",
     "traceback": [
      "  \u001b[36mCell\u001b[39m\u001b[36m \u001b[39m\u001b[32mIn[1]\u001b[39m\u001b[32m, line 2\u001b[39m\n\u001b[31m    \u001b[39m\u001b[31mimport sklearn.model_selection import train_test_split\u001b[39m\n                                   ^\n\u001b[31mSyntaxError\u001b[39m\u001b[31m:\u001b[39m invalid syntax\n"
     ]
    }
   ],
   "source": [
    "import pandas as pd \n",
    "from sklearn.model_selection import train_test_split\n",
    "\n",
    "#Load the dataset\n",
    "file_path = r\"C:\\Users\\VIBHANSHU JAIN\\Desktop\\Client Project\\campus-placement-analysis\\EDA_Notebooks\\datasets\\Predicted_data.xlsx\"\n",
    "df = pd.read_excel(file_path, sheet_name='Sheet1')\n",
    "\n",
    "#Define target columns\n",
    "salary_target = \"salary\"\n",
    "placement_target = \"status\"\n",
    "\n",
    "df = df.drop(columns=[\"profile_link\"], errors='ignore')\n",
    "df = pd.get_dummies(df)\n",
    "\n",
    "X_salary = df.drop(columns=[salary_target], errors='ignore')\n",
    "y_salary = df[salary_target]\n",
    "\n",
    "# Separate features (X) and target (y) for placement prediction\n",
    "X_placement = df.drop(columns=[placement_target], errors='ignore')\n",
    "y_placement = df[placement_target]\n",
    "\n",
    "# Split the dataset into training and testing sets\n",
    "X_salary_train, X_salary_test, y_salary_train, y_salary_test = train_test_split(\n",
    "    X_salary, y_salary, test_size=0.2, random_state=42\n",
    ")\n",
    "X_placement_train, X_placement_test, y_placement_train, y_placement_test = train_test_split(\n",
    "    X_placement, y_placement, test_size=0.2, random_state=42\n",
    ")\n",
    "\n",
    "# Print dataset shape\n",
    "print(\"Salary Prediction Dataset Shape:\", X_salary_train.shape, X_salary_test.shape)\n",
    "print(\"Placement Prediction Dataset Shape:\", X_placement_train.shape, X_placement_test.shape)\n"
   ]
  }
 ],
 "metadata": {
  "kernelspec": {
   "display_name": "venv",
   "language": "python",
   "name": "python3"
  },
  "language_info": {
   "codemirror_mode": {
    "name": "ipython",
    "version": 3
   },
   "file_extension": ".py",
   "mimetype": "text/x-python",
   "name": "python",
   "nbconvert_exporter": "python",
   "pygments_lexer": "ipython3",
   "version": "3.13.2"
  }
 },
 "nbformat": 4,
 "nbformat_minor": 2
}
